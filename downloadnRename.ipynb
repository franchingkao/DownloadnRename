  {
   "cell_type": "code",
   "execution_count": null,
   "metadata": {},
   "outputs": [],
   "source": [
    "import numpy as np\n",
    "import urllib.request\n",
    "import pandas as pd\n",
    "from tqdm.notebook import tqdm\n",
    "import requests\n",
    "\n",
    "#輸入擷取檔案、儲存位置、下載照片張數\n",
    "file_read = input(\"檔案名稱(須為CSV檔): \")\n",
    "folder_save = input(\"儲存路徑: \")\n",
    "image_num = input(\"每一SKU最多下載照片數量: \")\n",
    "\n",
    "#將資料型態全部轉為string, 避免出現亂碼\n",
    "df = pd.read_csv(file_read, dtype = \"str\")\n",
    "\n",
    "#指定檔名並將資料欄位轉換成list\n",
    "filename = df.filename.values\n",
    "image_list = list(df.columns[1:])\n",
    "\n",
    "print(image_num + ' photos will be uploaded for every ' + str(len(filename)) + ' SKU.')\n",
    "\n",
    "for num in tqdm(range(0, int(image_num))): #總共照片欄數\n",
    "    y = 0\n",
    "    for x in list(df[image_list[num]]): #總共照片列數\n",
    "        try:\n",
    "            r = requests.get(x)\n",
    "            with open(folder_save + '/' + str(filename[y]) + '-' + str(num+1) + '.jpg', 'wb') as f:\n",
    "                f.write(r.content)\n",
    "        except:\n",
    "            pass #欄位空白就跳過，繼續執行下一列\n",
    "        \n",
    "        y += 1"
   ]
  }
 ],
 "metadata": {
  "kernelspec": {
   "display_name": "Python 3",
   "language": "python",
   "name": "python3"
  },
  "language_info": {
   "codemirror_mode": {
    "name": "ipython",
    "version": 3
   },
   "file_extension": ".py",
   "mimetype": "text/x-python",
   "name": "python",
   "nbconvert_exporter": "python",
   "pygments_lexer": "ipython3",
   "version": "3.7.6"
  }
 },
 "nbformat": 4,
 "nbformat_minor": 4
}
